{
 "cells": [
  {
   "cell_type": "markdown",
   "metadata": {},
   "source": [
    "# Searching Algorithms: The Travelling Salesman Problem\n",
    "---\n",
    "\n",
    "The [travelling salesman problem (TSP)](https://en.wikipedia.org/wiki/Travelling_salesman_problem) is one of the most famous and most studied problems in computer science. The main reason it is because of its computational complexity (it belongs to the [NP-hard](https://en.wikipedia.org/wiki/NP-hardness) category). Since 1800s, when its believed that the physicist and mathematician [W.R. Hamilton](https://en.wikipedia.org/wiki/William_Rowan_Hamilton) formulated the problem for the first time, nobody has ever discovered an algorithm able to find the optimal solution efficiently. If someone eventually does, this could have profound implications in one of the current [major unresolved problems](https://en.wikipedia.org/wiki/Millennium_Prize_Problems) in mathematics and computer science: [P vs NP](https://www.youtube.com/watch?v=EHp4FPyajKQ). This is the main reason why its is problably the best problem to test how different searching algorithms perform. \n",
    "\n",
    "The formulation is very simple and everyone can understand it. Imagine that you are an old-time salesman ([not a modern one](https://xkcd.com/399/)) and you want to advertise and sell your product around several cities in your country or region. _Given a list of cities and the distances between each pair of cities, what is the shortest possible route that visits each city exactly once and returns to the origin city?_. Seems easy, right? You can try your best in [this website application](http://www.math.uwaterloo.ca/tsp/app/diy.html) from the University of Waterloo, where they also have a funny alternative version with the [shortest pub crawl](http://www.math.uwaterloo.ca/tsp/uk/index.html) around all the pubs in the UK.\n",
    "\n",
    "As you can imagine, this is such a simple and general optimisation problem that many other specific problems from other areas, ranging from [transportation and logistics](https://en.wikipedia.org/wiki/Vehicle_routing_problem) to [biology](https://www.wired.com/2011/04/cells-math-problem/). Thus, algorithms that perform well in the abstract TSP problem could eventually help in all these other areas as well."
   ]
  },
  {
   "cell_type": "markdown",
   "metadata": {},
   "source": [
    "## Problem Formulation\n",
    "---\n",
    "\n",
    "The first step in any A.I. problem is to provide a good problem [abstraction](https://en.wikipedia.org/wiki/Abstraction_(computer_science)). Understanding what is relevant and what is meaningless in our problem, how it should be formulated in a way that a computer can operate with and how a solution should look like, are the most basic foundations. Any error in here and we might be overcomplicating the problem - potentially increasing inefficiencies - or even worse, we might get a wrong solution.\n",
    "\n",
    "In our case we are going to attempt solving the TSP problem by representing the cities as 2D points sitting in a 100x100 canvas. In Python we are going to represent this by the variable `Cities` that will be a list of points, each with a `(x,y)` coordinates:"
   ]
  },
  {
   "cell_type": "code",
   "execution_count": 16,
   "metadata": {},
   "outputs": [],
   "source": [
    "# List of 7 cities within a 100x100 tile\n",
    "Cities = [(5,60),(14,32),(17,65),(32,28),(47,18),(56,53),(92,81)]"
   ]
  },
  {
   "cell_type": "markdown",
   "metadata": {},
   "source": [
    "Our particular TSP problem consist in finding the overall shortest path that joins all points of the canvas. Therefore, a candidate solution of the 7 cities above, could any permutation of the numbers from 0 to 6. We will represent this candidates as a variable `Trip` consisting in a list of integers starting from 0. For example the following one:"
   ]
  },
  {
   "cell_type": "code",
   "execution_count": 17,
   "metadata": {},
   "outputs": [],
   "source": [
    "# Candidate solution\n",
    "Trip = [3,2,6,1,0,5,4,3]"
   ]
  },
  {
   "cell_type": "markdown",
   "metadata": {},
   "source": [
    "Having a visual feedback is always a good idea, not only for communication purposes, but also as a double check that what we are doing makes sense and there is no flaw in our formulation. It is then very handy to have a function that plots our candidate solution alongside with the set of cities defined. It will be particularly useful when double-checking that optimised solution found by our search algorithm makes sense.\n",
    "\n",
    "To do this job the `matplotlib` library provides all the resources we need. We will only need to pass the function the `Cities` variable, with the x-y coordinates, and the candidate solution `Trip`. They key parts of the function below are basically plotting circles with a number in it. Then, in a layer belwo, plot the segments connecting the cities, acording to the `Trip` variable. "
   ]
  },
  {
   "cell_type": "code",
   "execution_count": 18,
   "metadata": {},
   "outputs": [],
   "source": [
    "# Plot the cities\n",
    "import matplotlib.pyplot as plt\n",
    "\n",
    "def plot_TSP(Cities, Trip, title=None):\n",
    "    \"\"\"\n",
    "    Plots a TSP solution in a 100 x 100 canvas\n",
    "    \n",
    "    Arguments:\n",
    "    ----------\n",
    "    Cities : List of points (x,y) within 100*100 \n",
    "    Trip : Vector with the ordered sequence of cities\n",
    "    title : Text for the title\n",
    "    \"\"\"\n",
    "    \n",
    "    fig, ax = plt.subplots(figsize=(6,6))\n",
    "    \n",
    "    # Set parameter of the axes limit and aesthetics\n",
    "    ax.set_xlim(0, 100)\n",
    "    ax.set_ylim(0, 100)\n",
    "    ax.tick_params(labeltop=True, labelright=True)\n",
    "    ax.xaxis.set_ticks_position('both')\n",
    "    ax.yaxis.set_ticks_position('both')\n",
    "    \n",
    "    # Plot the cities (circles)\n",
    "    for i,p in enumerate(Cities):\n",
    "        \n",
    "        # Get the coordinates of each point\n",
    "        x,y = p\n",
    "\n",
    "        # Create and add the circles to the canvas\n",
    "        circle = plt.Circle((x, y), radius=3)\n",
    "        ax.add_patch(circle)\n",
    "        \n",
    "        # Add the labels within the circle\n",
    "        ax.annotate(i, xy=(x, y), fontsize=12, va=\"center\", ha=\"center\", color=\"white\")\n",
    "\n",
    "    # Plot the segments (Trip)\n",
    "    for i in range(len(Trip)-1):\n",
    "        \n",
    "        # For each pair, get the coordinates from List\n",
    "        p1 = Cities[Trip[i]]\n",
    "        p2 = Cities[Trip[i+1]]\n",
    "        \n",
    "        # Create a vector for Xs and Ys\n",
    "        X = [p1[0],p2[0]]\n",
    "        Y = [p1[1],p2[1]]\n",
    "        \n",
    "        # Plot one line joining each pair\n",
    "        ax.plot(X, Y, color=\"red\", lw=3, zorder=0)\n",
    "    \n",
    "    # Add a title in the plot\n",
    "    if title != None:\n",
    "        fig.suptitle(title, fontsize=16)\n",
    "\n",
    "    plt.show()"
   ]
  },
  {
   "cell_type": "markdown",
   "metadata": {},
   "source": [
    "We can simply use the function like this:"
   ]
  },
  {
   "cell_type": "code",
   "execution_count": 19,
   "metadata": {},
   "outputs": [
    {
     "data": {
      "image/png": "[encoded data removed]",
      "text/plain": [
       "<Figure size 432x432 with 1 Axes>"
      ]
     },
     "metadata": {
      "needs_background": "light"
     },
     "output_type": "display_data"
    }
   ],
   "source": [
    "plot_TSP(Cities=Cities, Trip=Trip, title=\"TSP: One random solution\")"
   ]
  },
  {
   "cell_type": "markdown",
   "metadata": {},
   "source": [
    "The last necessary element we need to consider in the problem formulation is computing the distances. Probably, the most straightforward way one could firstly think would be by computing the distances sequentially for each pair of the candidate solution using a `for` loop. However, we can also quickly realise that this way we would need to repeat many calculations when considering different solutions. Instead, one alternative an efficient solution for this problem could be to pre-compute all pairwise distances and store them in a matrix. Then, computing the overall distance of a candiate solution would only be adding numbers from a matrix postion, which is much more efficient than calculating the euclidian distance each time. Thanks to the `distance_matrix()` function from the `scipy` library we can also compute the pairwise distance very quickly and efficiently."
   ]
  },
  {
   "cell_type": "code",
   "execution_count": 20,
   "metadata": {},
   "outputs": [
    {
     "name": "stdout",
     "output_type": "stream",
     "text": [
      "[[ 0.   29.41 13.   41.87 59.4  51.48 89.5 ]\n",
      " [29.41  0.   33.14 18.44 35.85 46.96 92.11]\n",
      " [13.   33.14  0.   39.92 55.76 40.8  76.69]\n",
      " [41.87 18.44 39.92  0.   18.03 34.66 80.06]\n",
      " [59.4  35.85 55.76 18.03  0.   36.14 77.42]\n",
      " [51.48 46.96 40.8  34.66 36.14  0.   45.61]\n",
      " [89.5  92.11 76.69 80.06 77.42 45.61  0.  ]]\n"
     ]
    }
   ],
   "source": [
    "import numpy as np\n",
    "from scipy.spatial import distance_matrix\n",
    "\n",
    "# Store distances in matrix D\n",
    "D = distance_matrix(Cities,Cities)\n",
    "print(np.round(D,2))"
   ]
  },
  {
   "cell_type": "markdown",
   "metadata": {},
   "source": [
    "As you can see, the result is in the form of a simetric matrix with zeros in the diagonal. The smallest numbers of the case above are the `D[0,2]=13` and `D[2,0]=13`, corresponding to the closest cities 0 and 2, as shown in the previous plot. The way to compute the distance of a trip is just adding up the values in the matrix for each consecutive pair of cities in the vector `Trip`. We can loop through all these pairs by using `zip(Trip[:-1], Trip[1:])`, which considers both the `Trip` vector without the last element and the same vector but shifted one position forward. Putting all these calculations in a function will be useful because this operation will be performed many times."
   ]
  },
  {
   "cell_type": "code",
   "execution_count": 21,
   "metadata": {},
   "outputs": [
    {
     "name": "stdout",
     "output_type": "stream",
     "text": [
      "343.78\n"
     ]
    }
   ],
   "source": [
    "def compute_distance(Trip, D):\n",
    "    \"\"\"\n",
    "    Computes the distance of a TSP candidate solution.\n",
    "    \n",
    "    Arguments:\n",
    "    ----------\n",
    "    Trip : Vector with the ordered sequence of cities.\n",
    "    D: Pre-computed distrance matrix.\n",
    "    \n",
    "    Returns:\n",
    "    --------\n",
    "    The overall distance value in a float number.\n",
    "    \"\"\"\n",
    "    total_distance = 0\n",
    "    for first, second in zip(Trip[:-1], Trip[1:]):\n",
    "        total_distance += D[first, second]\n",
    "    return(total_distance)\n",
    "\n",
    "distance = compute_distance(Trip,D)\n",
    "print(np.round(distance,2))"
   ]
  },
  {
   "cell_type": "markdown",
   "metadata": {},
   "source": [
    "A useful trick is to generate a line of text using the distance value, so we can include it in the title's plot."
   ]
  },
  {
   "cell_type": "code",
   "execution_count": 22,
   "metadata": {},
   "outputs": [
    {
     "data": {
      "image/png": "[encoded data removed]",
      "text/plain": [
       "<Figure size 432x432 with 1 Axes>"
      ]
     },
     "metadata": {
      "needs_background": "light"
     },
     "output_type": "display_data"
    }
   ],
   "source": [
    "candidate_num = 1\n",
    "text = \"TSP-\" + str(len(Cities)) + \"  candidate: \" + str(candidate_num) + \"  distance: \" + str(np.round(distance,2))\n",
    "plot_TSP(Cities=Cities, Trip=Trip, title=text)"
   ]
  },
  {
   "cell_type": "markdown",
   "metadata": {},
   "source": [
    "Thus, we have now created a good abstraction of the TSP problem that allows us to define a specific TSP configuration, provide a candidate solution, compute the distance of this candidate and give a visual feedback of it. The problem is now ready to start the real challenge, searching the optimal candidate in an efficient way. "
   ]
  },
  {
   "cell_type": "markdown",
   "metadata": {},
   "source": [
    "<div class=\"alert alert-block alert-info\"><b>Exercise 1:</b><br> Create a piece of code that creates a TSP with a random set of 15 cities. Then, test and plot a random permutation providing also the total distance. You can use the functions already created.<br><br><i>Hint: You might be interested on using the numpy's random.permutation() function, check out the documentation <a href=\"https://docs.scipy.org/doc/numpy-1.15.0/reference/generated/numpy.random.permutation.html\">here</a>.</i> </div>"
   ]
  },
  {
   "cell_type": "markdown",
   "metadata": {},
   "source": [
    "## Depth-first search\n",
    "---\n",
    "\n",
    "Let's start by designing an algorithm that finds a solution by brute force. Of course, this might seem the opposite of Artificial Intelligence, but still this will be useful as a benchmark for evaluating other searching algorithms.\n",
    "\n",
    "Checking all the cases means copmuting the distance for all possible combinations of vectors, such as the one in variable `Trip` above. In mathematics we call this exploring all the permutations. The number of permutations $\\Pi$ for the TSP is well defined:\n",
    "\n",
    "$\\Pi = N!=N\\times(N-1)\\times(N-2)\\times(N-3)\\times\\dots\\times2\\times1$,\n",
    "\n",
    "where $N$ is the number of cities to visit.\n",
    "\n",
    "Brute-force algorithms check each possible solution one by one in a specific order. How we define this order, i.e. what rules we apply follow to explore the different branches one by one, defines which brute-force search algorithm we are using. The depth-first search - [do not confuse](https://xkcd.com/2407/) with [breadth-first search](https://en.wikipedia.org/wiki/Breadth-first_search) - starts from the permutation [0,1,2,3,4,5,6] and changes systematically the permutations from the tail.\n",
    "\n",
    "The function `permutations` from the `itertools` package will be particularly useful here. But, before implementing it on our TSP with 7 cities, let's see what it does with a much more simple case of 3 cities."
   ]
  },
  {
   "cell_type": "code",
   "execution_count": 23,
   "metadata": {},
   "outputs": [
    {
     "name": "stdout",
     "output_type": "stream",
     "text": [
      "(1, 2, 3)\n",
      "(1, 3, 2)\n",
      "(2, 1, 3)\n",
      "(2, 3, 1)\n",
      "(3, 1, 2)\n",
      "(3, 2, 1)\n"
     ]
    }
   ],
   "source": [
    "from itertools import permutations\n",
    "\n",
    "# Example with \n",
    "tsp3 = [1,2,3]\n",
    "for p in list(permutations(tsp3)):\n",
    "    print(p)"
   ]
  },
  {
   "cell_type": "markdown",
   "metadata": {},
   "source": [
    "If you pick a pencil a piece of paper and draw the branching tree where the lowest value is always on the left, you will quickly see that this is the exact order of the different configurations for the depth-first search algorithm.\n",
    "\n",
    "Let's implement this algorithm in a function that takes the list `Cities`, the distance matrix `D`. In each iteration take the corresponding permutation and ad the first number to the end in order to close the loop. This is how we create the variable `Trip` and calculate its corresponding distance. If that distance is lower than our best candidate's distance, then we replace it. At the end of the loop or when we have reached a certain number of iterations defined by the argument `max_it`, the function will return the best candidate solution, its distance value and a data frame with the candidate distance in each round."
   ]
  },
  {
   "cell_type": "code",
   "execution_count": 24,
   "metadata": {},
   "outputs": [
    {
     "name": "stdout",
     "output_type": "stream",
     "text": [
      "Depth-first search candidate (round 34): [ 0   1   3   4   5   6   2   0 ]\n"
     ]
    },
    {
     "data": {
      "text/html": [
       "<div>\n",
       "<style scoped>\n",
       "    .dataframe tbody tr th:only-of-type {\n",
       "        vertical-align: middle;\n",
       "    }\n",
       "\n",
       "    .dataframe tbody tr th {\n",
       "        vertical-align: top;\n",
       "    }\n",
       "\n",
       "    .dataframe thead th {\n",
       "        text-align: right;\n",
       "    }\n",
       "</style>\n",
       "<table border=\"1\" class=\"dataframe\">\n",
       "  <thead>\n",
       "    <tr style=\"text-align: right;\">\n",
       "      <th></th>\n",
       "      <th>round</th>\n",
       "      <th>distance</th>\n",
       "    </tr>\n",
       "  </thead>\n",
       "  <tbody>\n",
       "    <tr>\n",
       "      <th>0</th>\n",
       "      <td>1</td>\n",
       "      <td>291.743894</td>\n",
       "    </tr>\n",
       "    <tr>\n",
       "      <th>1</th>\n",
       "      <td>2</td>\n",
       "      <td>291.743894</td>\n",
       "    </tr>\n",
       "    <tr>\n",
       "      <th>2</th>\n",
       "      <td>3</td>\n",
       "      <td>291.743894</td>\n",
       "    </tr>\n",
       "    <tr>\n",
       "      <th>3</th>\n",
       "      <td>4</td>\n",
       "      <td>291.743894</td>\n",
       "    </tr>\n",
       "    <tr>\n",
       "      <th>4</th>\n",
       "      <td>5</td>\n",
       "      <td>291.743894</td>\n",
       "    </tr>\n",
       "    <tr>\n",
       "      <th>5</th>\n",
       "      <td>6</td>\n",
       "      <td>291.743894</td>\n",
       "    </tr>\n",
       "    <tr>\n",
       "      <th>6</th>\n",
       "      <td>7</td>\n",
       "      <td>291.743894</td>\n",
       "    </tr>\n",
       "    <tr>\n",
       "      <th>7</th>\n",
       "      <td>8</td>\n",
       "      <td>291.743894</td>\n",
       "    </tr>\n",
       "    <tr>\n",
       "      <th>8</th>\n",
       "      <td>9</td>\n",
       "      <td>291.743894</td>\n",
       "    </tr>\n",
       "    <tr>\n",
       "      <th>9</th>\n",
       "      <td>10</td>\n",
       "      <td>291.743894</td>\n",
       "    </tr>\n",
       "    <tr>\n",
       "      <th>10</th>\n",
       "      <td>11</td>\n",
       "      <td>291.743894</td>\n",
       "    </tr>\n",
       "    <tr>\n",
       "      <th>11</th>\n",
       "      <td>12</td>\n",
       "      <td>291.743894</td>\n",
       "    </tr>\n",
       "    <tr>\n",
       "      <th>12</th>\n",
       "      <td>13</td>\n",
       "      <td>291.743894</td>\n",
       "    </tr>\n",
       "    <tr>\n",
       "      <th>13</th>\n",
       "      <td>14</td>\n",
       "      <td>291.743894</td>\n",
       "    </tr>\n",
       "    <tr>\n",
       "      <th>14</th>\n",
       "      <td>15</td>\n",
       "      <td>291.743894</td>\n",
       "    </tr>\n",
       "    <tr>\n",
       "      <th>15</th>\n",
       "      <td>16</td>\n",
       "      <td>291.743894</td>\n",
       "    </tr>\n",
       "    <tr>\n",
       "      <th>16</th>\n",
       "      <td>17</td>\n",
       "      <td>291.743894</td>\n",
       "    </tr>\n",
       "    <tr>\n",
       "      <th>17</th>\n",
       "      <td>18</td>\n",
       "      <td>291.743894</td>\n",
       "    </tr>\n",
       "    <tr>\n",
       "      <th>18</th>\n",
       "      <td>19</td>\n",
       "      <td>286.275921</td>\n",
       "    </tr>\n",
       "    <tr>\n",
       "      <th>19</th>\n",
       "      <td>20</td>\n",
       "      <td>286.275921</td>\n",
       "    </tr>\n",
       "  </tbody>\n",
       "</table>\n",
       "</div>"
      ],
      "text/plain": [
       "    round    distance\n",
       "0       1  291.743894\n",
       "1       2  291.743894\n",
       "2       3  291.743894\n",
       "3       4  291.743894\n",
       "4       5  291.743894\n",
       "5       6  291.743894\n",
       "6       7  291.743894\n",
       "7       8  291.743894\n",
       "8       9  291.743894\n",
       "9      10  291.743894\n",
       "10     11  291.743894\n",
       "11     12  291.743894\n",
       "12     13  291.743894\n",
       "13     14  291.743894\n",
       "14     15  291.743894\n",
       "15     16  291.743894\n",
       "16     17  291.743894\n",
       "17     18  291.743894\n",
       "18     19  286.275921\n",
       "19     20  286.275921"
      ]
     },
     "execution_count": 24,
     "metadata": {},
     "output_type": "execute_result"
    }
   ],
   "source": [
    "import pandas as pd\n",
    "\n",
    "def depth_first_search(Cities,D,max_it=10000):\n",
    "    \"\"\"\n",
    "    Finds a solution of TSP using depth-first search.\n",
    "    \n",
    "    Arguments:\n",
    "    ----------\n",
    "    Cities : List of points (x,y). \n",
    "    D: Pre-computed distance matrix.\n",
    "    max_it: Maximum number of iterations.\n",
    "    \n",
    "    Returns:\n",
    "    --------\n",
    "    - Best candidate Trip\n",
    "    - Best candidate round found\n",
    "    - Data frame with round number and distance\n",
    "    \n",
    "    \"\"\"\n",
    "\n",
    "    # Create root for first candidate\n",
    "    root = list(range(len(Cities)))\n",
    "    # Add the first node at the end\n",
    "    cand = np.append(root,[root[0]])\n",
    "    \n",
    "    # Compute distance\n",
    "    cand_dist = compute_distance(cand,D)\n",
    "        \n",
    "    dist = [cand_dist]\n",
    "    \n",
    "    # Counter\n",
    "    i = 1\n",
    "    # Candidate round\n",
    "    cand_round = i\n",
    "    \n",
    "    for perm in permutations(root):\n",
    "        \n",
    "        # end loop if we reach max_it iterations\n",
    "        if i >= max_it:\n",
    "            break\n",
    "        \n",
    "        Trip = np.append(perm,[perm[0]])\n",
    "        d = compute_distance(Trip,D)\n",
    "        \n",
    "        if d < cand_dist:\n",
    "            cand = Trip\n",
    "            cand_dist = d\n",
    "            cand_round = i\n",
    "        \n",
    "        dist.append(cand_dist)\n",
    "        i += 1\n",
    "\n",
    "    df = pd.DataFrame({'round':np.arange(1,i+1), 'distance':dist})\n",
    "    return(cand,cand_round,df)\n",
    "\n",
    "# Run the function\n",
    "sol,sol_round,df_dpfst = depth_first_search(Cities,D,10000)\n",
    "# Print the candidate\n",
    "print(\"Depth-first search candidate (round \" + str(sol_round) + \"): \" + ' '.join(str(sol)))\n",
    "# Show first candidates distance\n",
    "df_dpfst.head(20)"
   ]
  },
  {
   "cell_type": "markdown",
   "metadata": {},
   "source": [
    "Let's have a look to the solution:"
   ]
  },
  {
   "cell_type": "code",
   "execution_count": 25,
   "metadata": {},
   "outputs": [
    {
     "data": {
      "image/png": "[encoded data removed]",
      "text/plain": [
       "<Figure size 432x432 with 1 Axes>"
      ]
     },
     "metadata": {
      "needs_background": "light"
     },
     "output_type": "display_data"
    }
   ],
   "source": [
    "# Get values from df_rsearch\n",
    "distance = df_dpfst.tail(1)[\"distance\"].values[0]\n",
    "# Generate title text\n",
    "text = \"TSP-\" + str(len(Cities)) + \"  candidate: \" + str(sol_round) + \"  distance: \" + str(np.round(distance,2))\n",
    "# Use plot_TSP()\n",
    "plot_TSP(Cities=Cities, Trip=sol, title=text)"
   ]
  },
  {
   "cell_type": "markdown",
   "metadata": {},
   "source": [
    "Indeed, the solution found looks good. The algorithm has found the optimal solution in the round 34. It is also interesting to check how quickly the distance of the best candidate decays as rounds go along. This curve is also called [loss function](https://en.wikipedia.org/wiki/Loss_function) and useful for providing a sense of how quick or efficient is the algorithm when finding the best candidate. The data frame `df_dpfst` returned from the `depth_first_search()` function conveniently contains all the necessary information for this plot. "
   ]
  },
  {
   "cell_type": "code",
   "execution_count": 26,
   "metadata": {},
   "outputs": [
    {
     "data": {
      "image/png": "[encoded data removed]",
      "text/plain": [
       "<Figure size 432x288 with 1 Axes>"
      ]
     },
     "metadata": {
      "needs_background": "light"
     },
     "output_type": "display_data"
    }
   ],
   "source": [
    "fig, ax = plt.subplots(figsize=(6,4))\n",
    "\n",
    "# Plot's title\n",
    "fig.suptitle(\"Loss function\", fontsize=16)\n",
    "\n",
    "# Plot one line joining each pair\n",
    "ax.plot(df_dpfst[\"round\"], df_dpfst[\"distance\"], color=\"blue\", lw=3)\n",
    "\n",
    "ax.set_xlim(0,100)\n",
    "\n",
    "# Set labels\n",
    "ax.set_ylabel(\"distance\")\n",
    "ax.set_xlabel(\"round\")\n",
    "\n",
    "plt.show()"
   ]
  },
  {
   "cell_type": "markdown",
   "metadata": {},
   "source": [
    "## Random search\n",
    "---\n",
    "\n",
    "Another interesting algorithm to consider is the [random search](https://en.wikipedia.org/wiki/Random_search), where we check one random permutation at a time. Statistically speaking [Depth-first search algorithm](#Depth-first-search) and this one have the same chances to find the optimal solution in each round, assuming we don't have any extra information. However, their appropriateness differ depending whether we plan to explore all solutions or not. If we do, it is of course best to know the distance of each of the candidates and take the shortest one. If we don't, we might argue that the random search is better because the variability of the solutions will be higher. For 7 cities, the number of candidates is 5040, something achievable almost instantly for a standard computer. However, for 15 cities we have already 1,307,674,368,000 or around 1.3 trillion candidates to test. If we plan to increase the number of cities, we know that we won't be able to explore all possibilities and our depth-first search will only explore a small subset of those, all of them problably starting with the same sequence. If we want to at least explore trips starting with different sequences, then we have a good reason to choose random search.\n",
    "\n",
    "Fortunately, `numpy` makes our lives very easy by letting us use the `random.permutation()` function, which returns a random sequence of N numbers.  "
   ]
  },
  {
   "cell_type": "code",
   "execution_count": 12,
   "metadata": {},
   "outputs": [
    {
     "name": "stdout",
     "output_type": "stream",
     "text": [
      "Random search candidate (round 435): [ 6   5   4   3   1   0   2   6 ]\n"
     ]
    },
    {
     "data": {
      "text/html": [
       "<div>\n",
       "<style scoped>\n",
       "    .dataframe tbody tr th:only-of-type {\n",
       "        vertical-align: middle;\n",
       "    }\n",
       "\n",
       "    .dataframe tbody tr th {\n",
       "        vertical-align: top;\n",
       "    }\n",
       "\n",
       "    .dataframe thead th {\n",
       "        text-align: right;\n",
       "    }\n",
       "</style>\n",
       "<table border=\"1\" class=\"dataframe\">\n",
       "  <thead>\n",
       "    <tr style=\"text-align: right;\">\n",
       "      <th></th>\n",
       "      <th>round</th>\n",
       "      <th>distance</th>\n",
       "    </tr>\n",
       "  </thead>\n",
       "  <tbody>\n",
       "    <tr>\n",
       "      <th>0</th>\n",
       "      <td>1</td>\n",
       "      <td>350.996202</td>\n",
       "    </tr>\n",
       "    <tr>\n",
       "      <th>1</th>\n",
       "      <td>2</td>\n",
       "      <td>350.996202</td>\n",
       "    </tr>\n",
       "    <tr>\n",
       "      <th>2</th>\n",
       "      <td>3</td>\n",
       "      <td>305.885356</td>\n",
       "    </tr>\n",
       "    <tr>\n",
       "      <th>3</th>\n",
       "      <td>4</td>\n",
       "      <td>305.885356</td>\n",
       "    </tr>\n",
       "    <tr>\n",
       "      <th>4</th>\n",
       "      <td>5</td>\n",
       "      <td>305.885356</td>\n",
       "    </tr>\n",
       "    <tr>\n",
       "      <th>5</th>\n",
       "      <td>6</td>\n",
       "      <td>305.885356</td>\n",
       "    </tr>\n",
       "    <tr>\n",
       "      <th>6</th>\n",
       "      <td>7</td>\n",
       "      <td>305.885356</td>\n",
       "    </tr>\n",
       "    <tr>\n",
       "      <th>7</th>\n",
       "      <td>8</td>\n",
       "      <td>305.885356</td>\n",
       "    </tr>\n",
       "    <tr>\n",
       "      <th>8</th>\n",
       "      <td>9</td>\n",
       "      <td>305.885356</td>\n",
       "    </tr>\n",
       "    <tr>\n",
       "      <th>9</th>\n",
       "      <td>10</td>\n",
       "      <td>253.847171</td>\n",
       "    </tr>\n",
       "  </tbody>\n",
       "</table>\n",
       "</div>"
      ],
      "text/plain": [
       "   round    distance\n",
       "0      1  350.996202\n",
       "1      2  350.996202\n",
       "2      3  305.885356\n",
       "3      4  305.885356\n",
       "4      5  305.885356\n",
       "5      6  305.885356\n",
       "6      7  305.885356\n",
       "7      8  305.885356\n",
       "8      9  305.885356\n",
       "9     10  253.847171"
      ]
     },
     "execution_count": 12,
     "metadata": {},
     "output_type": "execute_result"
    }
   ],
   "source": [
    "def random_search(Cities,D,max_it):\n",
    "    \"\"\"\n",
    "    Finds a solution of TSP using random search.\n",
    "    \n",
    "    Arguments:\n",
    "    ----------\n",
    "    Cities : List of points (x,y). \n",
    "    D: Pre-computed distance matrix.\n",
    "    max_it: Maximum number of iterations.\n",
    "    \n",
    "    Returns:\n",
    "    --------\n",
    "    - Best candidate Trip\n",
    "    - Best candidate round found\n",
    "    - Data frame with round number and distance\n",
    "    \n",
    "    \"\"\"\n",
    "    # Start with a random permutation\n",
    "    rperm = np.random.permutation(len(Cities))\n",
    "    # Add the first node at the end\n",
    "    cand = np.append(rperm,[rperm[0]])\n",
    "    # Compute distance\n",
    "    cand_dist = compute_distance(cand,D)\n",
    "        \n",
    "    dist = []\n",
    "    \n",
    "    # Candidate round\n",
    "    cand_round = 1\n",
    "    \n",
    "    for i in range(max_it):\n",
    "        rperm = np.random.permutation(len(Cities))\n",
    "        Trip = np.append(rperm,[rperm[0]])\n",
    "        d = compute_distance(Trip,D)\n",
    "        \n",
    "        if d < cand_dist:\n",
    "            cand = Trip\n",
    "            cand_dist = d\n",
    "            cand_round = i\n",
    "        \n",
    "        dist.append(cand_dist)\n",
    "    \n",
    "    df = pd.DataFrame({'round':np.arange(1,max_it+1), 'distance':dist})\n",
    "    return(cand,cand_round,df)\n",
    "\n",
    "# Run the function\n",
    "sol,sol_round,df_rsearch = random_search(Cities,D,500)\n",
    "# Print the candidate\n",
    "print(\"Random search candidate (round \" + str(sol_round) + \"): \" + ' '.join(str(sol)))\n",
    "# Show first candidates distance\n",
    "df_rsearch.head(10)"
   ]
  },
  {
   "cell_type": "markdown",
   "metadata": {},
   "source": [
    "Let's see whether the solution makes sense."
   ]
  },
  {
   "cell_type": "code",
   "execution_count": 13,
   "metadata": {},
   "outputs": [
    {
     "data": {
      "image/png": "[encoded data removed]",
      "text/plain": [
       "<Figure size 432x432 with 1 Axes>"
      ]
     },
     "metadata": {
      "needs_background": "light"
     },
     "output_type": "display_data"
    }
   ],
   "source": [
    "# Get values from df_rsearch\n",
    "distance = df_rsearch.tail(1)[\"distance\"].values[0]\n",
    "# Generate title text\n",
    "text = \"TSP-\" + str(len(Cities)) + \"  candidate: \" + str(sol_round) + \"  distance: \" + str(np.round(distance,2))\n",
    "# Use plot_TSP()\n",
    "plot_TSP(Cities=Cities, Trip=sol, title=text)"
   ]
  },
  {
   "cell_type": "markdown",
   "metadata": {},
   "source": [
    "It does, but this algorithm has taken many more rounds to find the solution in this case. Also, bear in mind that the result above will change if you re-run the code given its random nature. It can even provide a sub-optimal solution many of the times. Of course, the more cities we generate, the worse the solutions will be, or conversely, the longer it will take to find a the solution."
   ]
  },
  {
   "cell_type": "markdown",
   "metadata": {},
   "source": [
    "<div class=\"alert alert-block alert-info\"><b>Exercise 2:</b><br>Generate 100 different TSP configurations with 7 cities and compare the candidates of the depth-first search and the random search algorithms for max_it values of 50, 500 and 5000. Use the distance of the best candidate to determine which one performed better. Now repeat the same for the TSP with 15 cities.</div>"
   ]
  },
  {
   "cell_type": "markdown",
   "metadata": {},
   "source": [
    "Now, after having seen some numbers for depth-first search and random search algorithms, it is quite clear that finding \"the best\" solution becomes quickly an untractable problem as we increase the number of cities. This at the end is the nature of NP-hard problems. Is there anything we can do about or we should just give up and resignate to explore all the options?\n",
    "\n",
    "Well, if our goal is still to find \"the best\" solution [there are algorithms](#Some-other-efficient-algorithms) that make this process more efficient. Conversely, if what we are after is finding a solution that it is \"good enough\", then there is plenty of room to create algorithms based on arguments that produce good approximations. This way of working is called [heuristics](https://en.wikipedia.org/wiki/Heuristic) and our brain is constantly doing it. The next two searching algorithms are clear examples of that.\n",
    "\n",
    "## Greedy search\n",
    "---\n",
    "\n",
    "Before starting the search for each of the possible trips, we compute the distance matrix `D` that we then pass to our algorithms as an object that they use to compute the the actual distance of each candidate. This matrix contains useful information, that we can use in order to explore good candidates efficiently. Indded, one could think that connecting neighboring cities has a bigger chance to produce a low distance path than connecting far-away cities. This is precisely the idea behind the [greedy search](https://en.wikipedia.org/wiki/Greedy_algorithm), in each step the next city that we are going to add to our trip is the closest one that we haven't visited yet.\n",
    "\n",
    "Obtaining the distances to all nodes using the distance matrix is straightforward. In the example above, we can get all distances from the node 3 by just selecting the third row `D[3,]`. However, what we really need is to sort all nodes by its distance to the node 3, then pick the first one that we have not visited yet. The function `argsort()` from the `numpy` package is very convenient here, since it returns the indexes of the elements sorted by its value. For checking whether an element is not within list `not in` is the condition we need to put in the `if` statement.\n",
    "\n",
    "The greedy search is deterministic, which means that the candidate trip will always be the same provided a starting city. Thus, it makes a lot of sense to create a function that takes as an argument one of the cities as starting point and creates the only one possible trip based in the nearest neighbor rule. "
   ]
  },
  {
   "cell_type": "code",
   "execution_count": 20,
   "metadata": {},
   "outputs": [
    {
     "data": {
      "image/png": "[encoded data removed]",
      "text/plain": [
       "<Figure size 432x432 with 1 Axes>"
      ]
     },
     "metadata": {
      "needs_background": "light"
     },
     "output_type": "display_data"
    }
   ],
   "source": [
    "def nearest_neighbor_trip(start, Cities, D):\n",
    "    \"\"\"\n",
    "    Finds the trip based on nearest neighbor.\n",
    "    \n",
    "    Arguments:\n",
    "    ----------\n",
    "    start: Starting city.\n",
    "    Cities : List of points (x,y). \n",
    "    D: Pre-computed distance matrix.\n",
    "    \n",
    "    Returns:\n",
    "    --------\n",
    "    List with trip sequence.\n",
    "    \"\"\"\n",
    "    # Create a list with visited cities with start in it\n",
    "    visited = [start]\n",
    "    # Pos variable will control the current city\n",
    "    current = start\n",
    "    \n",
    "    # loop until we visit all cities\n",
    "    while len(visited) < len(Cities):\n",
    "        # Order cities by closeness to current city\n",
    "        sorted_idxs = np.argsort(D[current,])\n",
    "        \n",
    "        #Loop through all those\n",
    "        for i in sorted_idxs:\n",
    "            # If the city is already visited skip to next\n",
    "            if i not in visited:\n",
    "                # Otherwise append this one to visited\n",
    "                visited.append(i)\n",
    "                # Set the current city to this one\n",
    "                current = i\n",
    "                # Exit the for loop and check from next city\n",
    "                break\n",
    "    \n",
    "    # Add the start city to the end\n",
    "    visited = visited + [start]\n",
    "    return(visited)\n",
    "\n",
    "# Run the function for city 3\n",
    "Trip = nearest_neighbor_trip(3, Cities, D)\n",
    "d = compute_distance(Trip,D)\n",
    "plot_TSP(Cities=Cities, Trip=Trip, title=\"Greedy search starting in 3 (distance = \" + str(round(d,2)) + \" )\")"
   ]
  },
  {
   "cell_type": "markdown",
   "metadata": {},
   "source": [
    "As you can see above, the solution provided when starting from the node 3 is not optimal. In fact, the greedy search will normally produce a sub-optimal solution. However, the distance of the first candidate is already quite low compared with the distance of the first candidate in the other cases.\n",
    "\n",
    "Let's build the function that produces the all the greedy search candidates. To do so we only need to loop through all cities and use the `nearest_neighbor_trip()` we have coded above. Then, like in the other algorithms, we will keep the shortest one as the best candidate. "
   ]
  },
  {
   "cell_type": "code",
   "execution_count": 13,
   "metadata": {},
   "outputs": [
    {
     "name": "stdout",
     "output_type": "stream",
     "text": [
      "Random search candidate (round 3): [ 2 ,   0 ,   1 ,   3 ,   4 ,   5 ,   6 ,   2 ]\n"
     ]
    },
    {
     "data": {
      "text/html": [
       "<div>\n",
       "<style scoped>\n",
       "    .dataframe tbody tr th:only-of-type {\n",
       "        vertical-align: middle;\n",
       "    }\n",
       "\n",
       "    .dataframe tbody tr th {\n",
       "        vertical-align: top;\n",
       "    }\n",
       "\n",
       "    .dataframe thead th {\n",
       "        text-align: right;\n",
       "    }\n",
       "</style>\n",
       "<table border=\"1\" class=\"dataframe\">\n",
       "  <thead>\n",
       "    <tr style=\"text-align: right;\">\n",
       "      <th></th>\n",
       "      <th>round</th>\n",
       "      <th>distance</th>\n",
       "    </tr>\n",
       "  </thead>\n",
       "  <tbody>\n",
       "    <tr>\n",
       "      <th>0</th>\n",
       "      <td>1</td>\n",
       "      <td>253.847171</td>\n",
       "    </tr>\n",
       "    <tr>\n",
       "      <th>1</th>\n",
       "      <td>2</td>\n",
       "      <td>253.847171</td>\n",
       "    </tr>\n",
       "    <tr>\n",
       "      <th>2</th>\n",
       "      <td>3</td>\n",
       "      <td>237.311045</td>\n",
       "    </tr>\n",
       "    <tr>\n",
       "      <th>3</th>\n",
       "      <td>4</td>\n",
       "      <td>237.311045</td>\n",
       "    </tr>\n",
       "    <tr>\n",
       "      <th>4</th>\n",
       "      <td>5</td>\n",
       "      <td>237.311045</td>\n",
       "    </tr>\n",
       "    <tr>\n",
       "      <th>5</th>\n",
       "      <td>6</td>\n",
       "      <td>237.311045</td>\n",
       "    </tr>\n",
       "    <tr>\n",
       "      <th>6</th>\n",
       "      <td>7</td>\n",
       "      <td>237.311045</td>\n",
       "    </tr>\n",
       "  </tbody>\n",
       "</table>\n",
       "</div>"
      ],
      "text/plain": [
       "   round    distance\n",
       "0      1  253.847171\n",
       "1      2  253.847171\n",
       "2      3  237.311045\n",
       "3      4  237.311045\n",
       "4      5  237.311045\n",
       "5      6  237.311045\n",
       "6      7  237.311045"
      ]
     },
     "execution_count": 13,
     "metadata": {},
     "output_type": "execute_result"
    }
   ],
   "source": [
    "def greedy_search(Cities, D):\n",
    "    \"\"\"\n",
    "    Finds a solution of TSP using random search.\n",
    "    \n",
    "    Arguments:\n",
    "    ----------\n",
    "    Cities : List of points (x,y). \n",
    "    D: Pre-computed distance matrix.\n",
    "    max_it: Maximum number of iterations.\n",
    "    between samples. \n",
    "    \n",
    "    Returns:\n",
    "    --------\n",
    "    - Best candidate Trip\n",
    "    - Best candidate round found\n",
    "    - Data frame with round number and distance\n",
    "    \n",
    "    \"\"\"\n",
    "\n",
    "    # Compute distance\n",
    "    cand_dist = 0\n",
    "        \n",
    "    dist = []\n",
    "    \n",
    "    # Candidate round\n",
    "    cand_round = 1\n",
    "    \n",
    "    for i in range(len(Cities)):\n",
    "        # Get starting city\n",
    "        start = i\n",
    "        # Get the NN-Trip\n",
    "        Trip = nearest_neighbor_trip(start, Cities, D)\n",
    "        # Compute the distance\n",
    "        d = compute_distance(Trip,D)\n",
    "        # If distance is best or i is first iteration\n",
    "        if d < cand_dist or cand_dist == 0:\n",
    "            cand = Trip\n",
    "            cand_dist = d\n",
    "            cand_round = i + 1\n",
    "\n",
    "        dist.append(cand_dist)\n",
    "    \n",
    "    df = pd.DataFrame({'round':np.arange(len(Cities)) + 1, 'distance':dist})\n",
    "    return(cand,cand_round,df)\n",
    "\n",
    "# Run the function\n",
    "sol,sol_round,df_greedy_search = greedy_search(Cities=Cities,D=D)\n",
    "# Print the candidate\n",
    "print(\"Greedy search candidate (round \" + str(sol_round) + \"): \" + ' '.join(str(sol)))\n",
    "# Show first candidates distance\n",
    "df_greedy_search.head(10)"
   ]
  },
  {
   "cell_type": "markdown",
   "metadata": {},
   "source": [
    "With this specific TSP configuration we eventually reach the optimal solution with the greedy search. However, you can test yourselves that this is not always the case if you just shuffle the cities again, or you increase the number of cities. Another remarkable weakness is the limited amount of candidates generated, which is equal to the number of cities - one per starting point. Such a limited set of options is probably not the best tool to find the best solution, but it definitely excels finding a good candidate relatively quickly. "
   ]
  },
  {
   "cell_type": "markdown",
   "metadata": {},
   "source": [
    "## 2-opt algorithm\n",
    "---\n",
    "\n",
    "Another set of algorithms consists in finding a way to improve a candidate, rather than finding it from scratch. This is the case of the [2-opt algorithm](https://en.wikipedia.org/wiki/2-opt) whose main point is to swap edges of an already provided solution. The intuitive mechanism of this search is that removes the crossings between edges, which tends to reduce the distance significantly. For example, let's condsider the Trip below:"
   ]
  },
  {
   "cell_type": "code",
   "execution_count": 14,
   "metadata": {},
   "outputs": [
    {
     "data": {
      "image/png": "[encoded data removed]",
      "text/plain": [
       "<Figure size 432x432 with 1 Axes>"
      ]
     },
     "metadata": {
      "needs_background": "light"
     },
     "output_type": "display_data"
    }
   ],
   "source": [
    "# Candidate solution\n",
    "Trip = [2, 0, 5, 4, 3, 1, 6, 2]\n",
    "d = compute_distance(Trip,D)\n",
    "text = \"Before swapping edges (distance = \" + str(round(d,2)) + \")\"\n",
    "plot_TSP(Cities=Cities, Trip=Trip, title=text)"
   ]
  },
  {
   "cell_type": "markdown",
   "metadata": {},
   "source": [
    "It's quite clear that the solution could be improved by removing the crossing between edges 0 &#8594; 5 and 1 &#8594; 6. Note that removing those edges and then reconneting them, such that 0 &#8594; 1 and 5 &#8594; 6, also implies reversing the direction of the segment 5 &#8594; 4 &#8594; 3 &#8594; 1. To make this swapping simple we can write a function `edge_swap()` that uses the position of the cities the edges are pointing to in the `Trip` variable, which in our particular case (cities 5 and 6) is 2nd and 6th respectively. "
   ]
  },
  {
   "cell_type": "code",
   "execution_count": 15,
   "metadata": {},
   "outputs": [
    {
     "data": {
      "image/png": "[encoded data removed]",
      "text/plain": [
       "<Figure size 432x432 with 1 Axes>"
      ]
     },
     "metadata": {
      "needs_background": "light"
     },
     "output_type": "display_data"
    }
   ],
   "source": [
    "def edge_swap(Trip, i, j):\n",
    "    \"\"\"\n",
    "    Swaps edges into nodes i and j of a TSP closed trip.\n",
    "    \n",
    "    Arguments:\n",
    "    ----------\n",
    "    Trip : List with the ordered sequence of cities. \n",
    "    i: ith position of the destination node in Trip.\n",
    "    j: jth position of the destination node in Trip.\n",
    "    \n",
    "    Returns:\n",
    "    --------\n",
    "    New Trip with edges swapped\n",
    "    \n",
    "    \"\"\"\n",
    "    # Copy the old Trip\n",
    "    newTrip = Trip[:]\n",
    "    # Reverse the order of the segment from i to j\n",
    "    newTrip[i:j] = Trip[j-1:i-1:-1]\n",
    "    return newTrip;\n",
    "\n",
    "newTrip = edge_swap(Trip, 2, 6)\n",
    "d = compute_distance(newTrip,D)\n",
    "text = \"After swapping edges (distance = \" + str(round(d,2)) + \")\"\n",
    "plot_TSP(Cities=Cities, Trip=newTrip, title=text)"
   ]
  },
  {
   "cell_type": "markdown",
   "metadata": {},
   "source": [
    "As you can see above, this function has successfully swapped the mentioned edges and returned the optimal solution 2 &#8594; 0 &#8594; 1 &#8594; 3 &#8594; 4 &#8594; 5 &#8594; 6 &#8594; 2. Of course, it could still happen that there are many more crossings in our path. Therefore, we need to scan all edges keeping only the configuration when that reduces the overall distance. Visiting all edges just once, might not be enough with still some room to optimise our configuration further. The 2-opt algorithm sweeps all edges several times until the configuration does not longer improve. "
   ]
  },
  {
   "cell_type": "code",
   "execution_count": 16,
   "metadata": {},
   "outputs": [
    {
     "name": "stdout",
     "output_type": "stream",
     "text": [
      "<built-in function len>\n",
      "2-opt search candidate (round 16): [ 0   4   2   5   3   1   6   0 ]\n"
     ]
    },
    {
     "data": {
      "text/html": [
       "<div>\n",
       "<style scoped>\n",
       "    .dataframe tbody tr th:only-of-type {\n",
       "        vertical-align: middle;\n",
       "    }\n",
       "\n",
       "    .dataframe tbody tr th {\n",
       "        vertical-align: top;\n",
       "    }\n",
       "\n",
       "    .dataframe thead th {\n",
       "        text-align: right;\n",
       "    }\n",
       "</style>\n",
       "<table border=\"1\" class=\"dataframe\">\n",
       "  <thead>\n",
       "    <tr style=\"text-align: right;\">\n",
       "      <th></th>\n",
       "      <th>round</th>\n",
       "      <th>distance</th>\n",
       "    </tr>\n",
       "  </thead>\n",
       "  <tbody>\n",
       "    <tr>\n",
       "      <th>0</th>\n",
       "      <td>1</td>\n",
       "      <td>319.95549</td>\n",
       "    </tr>\n",
       "    <tr>\n",
       "      <th>1</th>\n",
       "      <td>2</td>\n",
       "      <td>319.95549</td>\n",
       "    </tr>\n",
       "    <tr>\n",
       "      <th>2</th>\n",
       "      <td>3</td>\n",
       "      <td>319.95549</td>\n",
       "    </tr>\n",
       "    <tr>\n",
       "      <th>3</th>\n",
       "      <td>4</td>\n",
       "      <td>319.95549</td>\n",
       "    </tr>\n",
       "    <tr>\n",
       "      <th>4</th>\n",
       "      <td>5</td>\n",
       "      <td>319.95549</td>\n",
       "    </tr>\n",
       "    <tr>\n",
       "      <th>5</th>\n",
       "      <td>6</td>\n",
       "      <td>319.95549</td>\n",
       "    </tr>\n",
       "    <tr>\n",
       "      <th>6</th>\n",
       "      <td>7</td>\n",
       "      <td>319.95549</td>\n",
       "    </tr>\n",
       "    <tr>\n",
       "      <th>7</th>\n",
       "      <td>8</td>\n",
       "      <td>319.95549</td>\n",
       "    </tr>\n",
       "    <tr>\n",
       "      <th>8</th>\n",
       "      <td>9</td>\n",
       "      <td>319.95549</td>\n",
       "    </tr>\n",
       "    <tr>\n",
       "      <th>9</th>\n",
       "      <td>10</td>\n",
       "      <td>319.95549</td>\n",
       "    </tr>\n",
       "  </tbody>\n",
       "</table>\n",
       "</div>"
      ],
      "text/plain": [
       "   round   distance\n",
       "0      1  319.95549\n",
       "1      2  319.95549\n",
       "2      3  319.95549\n",
       "3      4  319.95549\n",
       "4      5  319.95549\n",
       "5      6  319.95549\n",
       "6      7  319.95549\n",
       "7      8  319.95549\n",
       "8      9  319.95549\n",
       "9     10  319.95549"
      ]
     },
     "execution_count": 16,
     "metadata": {},
     "output_type": "execute_result"
    }
   ],
   "source": [
    "def two_opt_search(Cities, D, max_it=10000):\n",
    "    \"\"\"\n",
    "    Finds a solution of TSP using 2-opt algorithm.\n",
    "    \n",
    "    Arguments:\n",
    "    ----------\n",
    "    Cities : List of points (x,y). \n",
    "    D: Pre-computed distance matrix.\n",
    "    max_it: Maximum number of iterations.\n",
    "    \n",
    "    Returns:\n",
    "    --------\n",
    "    - Best candidate Trip\n",
    "    - Best candidate round found\n",
    "    - Data frame with round number and distance\n",
    "    \n",
    "    \"\"\"\n",
    "    \n",
    "    # Start with a random permutation\n",
    "    rperm = np.random.permutation(len(Cities))\n",
    "    # Add the first node at the end\n",
    "    cand = np.append(rperm,[rperm[0]])\n",
    "    # Compute distance\n",
    "    cand_dist = compute_distance(cand,D)\n",
    "    \n",
    "    dist = [cand_dist]\n",
    "    \n",
    "    # Candidate round\n",
    "    cand_round = 1\n",
    "    \n",
    "    improvement = True\n",
    "    while improvement:\n",
    "        improvement = False\n",
    "        for i in range(1, len(Cities)-1):\n",
    "            for j in range(i + 1, len(Cities) + 1):\n",
    "                if j-i == 1:\n",
    "                    continue # Do not swap for consecutive cites\n",
    "                \n",
    "                cand_round += 1 # Add one round for each swap\n",
    "                newTrip = edge_swap(cand, i, j)\n",
    "                d = compute_distance(newTrip,D)\n",
    "                if d < cand_dist:\n",
    "                    cand = newTrip\n",
    "                    cand_dist = d\n",
    "                    improvement = True\n",
    "                \n",
    "                dist.append(cand_dist)\n",
    "\n",
    "\n",
    "    print(len)\n",
    "    df = pd.DataFrame({'round':np.arange(1,len(dist)+1), 'distance':dist})\n",
    "    return(cand,cand_round,df)\n",
    "\n",
    "# Run the function\n",
    "sol,sol_round,df_twoopt_search = two_opt_search(Cities=Cities,D=D)\n",
    "# Print the candidate\n",
    "print(\"2-opt search candidate (round \" + str(sol_round) + \"): \" + ' '.join(str(sol)))\n",
    "# Show first candidates distance\n",
    "df_twoopt_search.head(10)"
   ]
  },
  {
   "cell_type": "markdown",
   "metadata": {},
   "source": [
    "<div class=\"alert alert-block alert-info\"><b>Exercise 3:</b><br>Implement the 3-opt algorithm, consisting in removing 3 edges of the network, instead of 2, and reconnecting them in the best way.<br><br><i>Hint: Checkout <a href=\"https://en.wikipedia.org/wiki/3-opt\">this link</a>, it might be useful.</i>.</div>"
   ]
  },
  {
   "cell_type": "markdown",
   "metadata": {},
   "source": [
    "<div class=\"alert alert-block alert-info\"><b>Exercise 4:</b><br>Make a general study of the 4 algorithms seen so far. Generate 100 different TSP configurations for 15 cities, with a maximum number of iterations set to 1000. Then, for each algorithm compute the average number of rounds to get the best candidate and the average distance score. The average distance score is the distance of the candidate divided by the distance of the best candidate of the 4 algorithms. Finally, compare the different algorithms in terms of the number of rounds and the distance score.</div>"
   ]
  },
  {
   "cell_type": "markdown",
   "metadata": {},
   "source": [
    "## Some other efficient algorithms\n",
    "---\n",
    "\n",
    "Network theory has also developed methodologies that are very useful for this problem, considering that each city as nodes and the distance matrix an equivalent of the adjacency matrix, creating thus a weighted network. The [Minimum Spanning Tree (MST)](https://en.wikipedia.org/wiki/Minimum_spanning_tree) is the graph that connects, without cycles, all vertices of the network whose weight (euclidean distances in our case) is minimum. The use of the MST is central in the so-called [Christofides-Serdyukov algorithm](https://en.wikipedia.org/wiki/Christofides_algorithm), watch [this video](https://www.youtube.com/watch?v=xN9ZtYzPewg) for a good explanation. This algorithm guarantees that its proposed solutions are never going to be 1.5 longer that the optimal solution, which makes it a very good system to find good approximations in a quick way. You can find its implementation in Python in [this](https://github.com/MUSoC/Visualization-of-popular-algorithms-in-Python/tree/master/Travelling%20Salesman%20Problem) GitHub repository.\n",
    "\n",
    "The most efficient general solution proposed so far is the [Held-Karp algorithm](https://en.wikipedia.org/wiki/Held%E2%80%93Karp_algorithm) proposed by Michael Held and Richard Karp in 1962. This algorithm uses [dynamic programming](https://en.wikipedia.org/wiki/Dynamic_programming), which is a method that consists in breaking down the big problem in several recursive subproblems. This allows identifying some repeated subproblems, and only compute the answer once for those cases. [This video](https://www.youtube.com/watch?v=_51ot-Ri0ng) beautifully explains how this algorithm works and why has the lowest computation complexity known so far for solving the TSP problem: $O(n^2 \\times 2^n)$"
   ]
  },
  {
   "cell_type": "markdown",
   "metadata": {},
   "source": [
    "---\n",
    "<div style=\"text-align: right ;font-size: small; color: gray\"> Notebook by <a href=\"http://mariogutierrezroig.net\">Mario Gutiérrez-Roig</a>, Lecturer in Data Science and Statistics at the University of Essex <a href=\"http://creativecommons.org/licenses/by-sa/4.0/\" rel=\"license\"><img src=\"https://i.creativecommons.org/l/by-sa/4.0/88x31.png\" alt=\"Licencia de Creative Commons\" hspace=\"10\" align=\"right\"></a></div>"
   ]
  }
 ],
 "metadata": {
  "kernelspec": {
   "display_name": "Python 3",
   "language": "python",
   "name": "python3"
  },
  "language_info": {
   "codemirror_mode": {
    "name": "ipython",
    "version": 3
   },
   "file_extension": ".py",
   "mimetype": "text/x-python",
   "name": "python",
   "nbconvert_exporter": "python",
   "pygments_lexer": "ipython3",
   "version": "3.8.2"
  }
 },
 "nbformat": 4,
 "nbformat_minor": 4
}
