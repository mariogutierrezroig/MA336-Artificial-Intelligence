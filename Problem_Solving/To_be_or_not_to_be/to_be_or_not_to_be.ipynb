{
 "cells": [
  {
   "cell_type": "markdown",
   "metadata": {},
   "source": [
    "# __Problem Solving: To be or not to be__\n",
    "---\n",
    "\n",
    "The [Infinite Monkey Theorem](https://en.wikipedia.org/wiki/Infinite_monkey_theorem) states the following:\n",
    ">A monkey hitting keys at random on a typewriter keyboard for an infinite amount of time will almost surely type any given text, such as the complete works of William Shakespeare.\n",
    "\n",
    "In other words, finite sequence of letters can sooner or leater will appear if we generate pieces of text of the same length for long enough.\n",
    "\n",
    "In this notebook we will explore how to implement a set of search algorithms and evolutionary algorithms for coming up with the famous finite sequence of letters \"to be or not to be\" from the Shakespeare's play [Hamlet](https://en.wikipedia.org/wiki/Hamlet).\n",
    "\n",
    "![title](img/infinite_monkey.png)"
   ]
  },
  {
   "cell_type": "markdown",
   "metadata": {},
   "source": [
    "## Problem Formulation\n",
    "---\n",
    "\n",
    "The first thing to do is clearly defining the goal state of the problem, which is the string of characters \"TO BE OR NOT TO BE\", all in capitals and with spaces."
   ]
  },
  {
   "cell_type": "code",
   "execution_count": 29,
   "metadata": {},
   "outputs": [],
   "source": [
    "# Defining the target as string of characters\n",
    "target = \"TO BE OR NOT TO BE\""
   ]
  },
  {
   "cell_type": "markdown",
   "metadata": {},
   "source": [
    "In Python text is also a vector with characters, which we can refer to pointing at their positions."
   ]
  },
  {
   "cell_type": "code",
   "execution_count": 32,
   "metadata": {},
   "outputs": [
    {
     "data": {
      "text/plain": [
       "'E'"
      ]
     },
     "execution_count": 32,
     "metadata": {},
     "output_type": "execute_result"
    }
   ],
   "source": [
    "#Showing the first element\n",
    "target[4]"
   ]
  },
  {
   "cell_type": "markdown",
   "metadata": {},
   "source": [
    "All values that can go in each of the positions is the 26 letters in standard english, plus the space character."
   ]
  },
  {
   "cell_type": "code",
   "execution_count": 35,
   "metadata": {},
   "outputs": [],
   "source": [
    "# Define all possible values\n",
    "charlist = [\"A\",\"B\",\"C\",\"D\",\"E\",\"F\",\"G\",\"H\",\"I\",\"J\",\"K\",\"L\",\"M\",\"N\",\"O\",\"P\",\"Q\",\"R\",\"S\",\"T\",\"U\",\"V\",\"W\",\"X\",\"Y\",\"Z\",\" \"]"
   ]
  },
  {
   "cell_type": "markdown",
   "metadata": {},
   "source": [
    "So we can build candidates by attaching elements from that `charlist`."
   ]
  },
  {
   "cell_type": "code",
   "execution_count": 36,
   "metadata": {},
   "outputs": [
    {
     "data": {
      "text/plain": [
       "'GBOX'"
      ]
     },
     "execution_count": 36,
     "metadata": {},
     "output_type": "execute_result"
    }
   ],
   "source": [
    "# Concatenating elements of charlist using + symbol (only works for character format)\n",
    "candidate = charlist[6] + charlist[1] + charlist[14] + charlist[23]\n",
    "candidate"
   ]
  },
  {
   "cell_type": "markdown",
   "metadata": {},
   "source": [
    "or we e can also use the `sample()` function from the `random` library to generate random combinations: "
   ]
  },
  {
   "cell_type": "code",
   "execution_count": 37,
   "metadata": {},
   "outputs": [
    {
     "data": {
      "text/plain": [
       "['M',\n",
       " 'Q',\n",
       " 'W',\n",
       " 'G',\n",
       " 'J',\n",
       " 'T',\n",
       " 'Y',\n",
       " 'F',\n",
       " 'I',\n",
       " 'R',\n",
       " 'A',\n",
       " 'E',\n",
       " 'B',\n",
       " 'K',\n",
       " ' ',\n",
       " 'S',\n",
       " 'H',\n",
       " 'P']"
      ]
     },
     "execution_count": 37,
     "metadata": {},
     "output_type": "execute_result"
    }
   ],
   "source": [
    "import random\n",
    "\n",
    "candidate = random.sample(charlist,18)\n",
    "candidate"
   ]
  },
  {
   "cell_type": "markdown",
   "metadata": {},
   "source": [
    "If we want to see it as text, we can use the `join()` attribute, that allows to stick several characters using a ."
   ]
  },
  {
   "cell_type": "code",
   "execution_count": 38,
   "metadata": {},
   "outputs": [
    {
     "data": {
      "text/plain": [
       "'MQWGJTYFIRAEBK SHP'"
      ]
     },
     "execution_count": 38,
     "metadata": {},
     "output_type": "execute_result"
    }
   ],
   "source": [
    "# Create a string of characters\n",
    "''.join(candidate)"
   ]
  },
  {
   "cell_type": "markdown",
   "metadata": {},
   "source": [
    "Finally, we need to create a function `check` that checks how many characters match the target."
   ]
  },
  {
   "cell_type": "code",
   "execution_count": 42,
   "metadata": {},
   "outputs": [
    {
     "data": {
      "text/plain": [
       "9"
      ]
     },
     "execution_count": 42,
     "metadata": {},
     "output_type": "execute_result"
    }
   ],
   "source": [
    "def check(candidate,target):\n",
    "    # Initialise counter\n",
    "    count = 0\n",
    "    # loop through all positions of both vectors\n",
    "    for c,t in zip(candidate,target):\n",
    "        if c == t:\n",
    "            # Add one to count if the two characters match\n",
    "            count += 1\n",
    "    # returnt the count\n",
    "    return(count)\n",
    "\n",
    "#list(zip(candidate,target))\n",
    "candidate = \"TO BE OR WFCNGTIAQ\"\n",
    "check(candidate,target)"
   ]
  },
  {
   "cell_type": "markdown",
   "metadata": {},
   "source": [
    "## Breadth-first search\n",
    "---\n",
    "\n",
    "Breadth-first search takes a lot of memory and will freeze our computer if we try with the whole target. Will show the algorithm with a short target version. "
   ]
  },
  {
   "cell_type": "code",
   "execution_count": 8,
   "metadata": {},
   "outputs": [],
   "source": [
    "# Short target\n",
    "targetshort = \"TO BE\""
   ]
  },
  {
   "cell_type": "markdown",
   "metadata": {},
   "source": [
    "With breadth-first search need to build all candidates at once exploring all possibilities for subsequent positions. Let's start with the first."
   ]
  },
  {
   "cell_type": "code",
   "execution_count": 43,
   "metadata": {},
   "outputs": [
    {
     "name": "stdout",
     "output_type": "stream",
     "text": [
      "['A', 'B', 'C', 'D', 'E', 'F', 'G', 'H', 'I', 'J', 'K', 'L', 'M', 'N', 'O', 'P', 'Q', 'R', 'S', 'T', 'U', 'V', 'W', 'X', 'Y', 'Z', ' ']\n"
     ]
    }
   ],
   "source": [
    "import numpy as np\n",
    "\n",
    "# List for all candidates\n",
    "allcand = []\n",
    "\n",
    "for char in charlist:\n",
    "    allcand.append(char)\n",
    "    \n",
    "print(allcand)"
   ]
  },
  {
   "cell_type": "markdown",
   "metadata": {},
   "source": [
    "For each value in `allcand` we now generate all possibilities for two-letter string."
   ]
  },
  {
   "cell_type": "code",
   "execution_count": 44,
   "metadata": {
    "tags": []
   },
   "outputs": [
    {
     "name": "stdout",
     "output_type": "stream",
     "text": [
      "['AA', 'AB', 'AC', 'AD', 'AE', 'AF', 'AG', 'AH', 'AI', 'AJ', 'AK', 'AL', 'AM', 'AN', 'AO', 'AP', 'AQ', 'AR', 'AS', 'AT', 'AU', 'AV', 'AW', 'AX', 'AY', 'AZ', 'A ', 'BA', 'BB', 'BC', 'BD', 'BE', 'BF', 'BG', 'BH', 'BI', 'BJ', 'BK', 'BL', 'BM', 'BN', 'BO', 'BP', 'BQ', 'BR', 'BS', 'BT', 'BU', 'BV', 'BW', 'BX', 'BY', 'BZ', 'B ', 'CA', 'CB', 'CC', 'CD', 'CE', 'CF', 'CG', 'CH', 'CI', 'CJ', 'CK', 'CL', 'CM', 'CN', 'CO', 'CP', 'CQ', 'CR', 'CS', 'CT', 'CU', 'CV', 'CW', 'CX', 'CY', 'CZ', 'C ', 'DA', 'DB', 'DC', 'DD', 'DE', 'DF', 'DG', 'DH', 'DI', 'DJ', 'DK', 'DL', 'DM', 'DN', 'DO', 'DP', 'DQ', 'DR', 'DS', 'DT', 'DU', 'DV', 'DW', 'DX', 'DY', 'DZ', 'D ', 'EA', 'EB', 'EC', 'ED', 'EE', 'EF', 'EG', 'EH', 'EI', 'EJ', 'EK', 'EL', 'EM', 'EN', 'EO', 'EP', 'EQ', 'ER', 'ES', 'ET', 'EU', 'EV', 'EW', 'EX', 'EY', 'EZ', 'E ', 'FA', 'FB', 'FC', 'FD', 'FE', 'FF', 'FG', 'FH', 'FI', 'FJ', 'FK', 'FL', 'FM', 'FN', 'FO', 'FP', 'FQ', 'FR', 'FS', 'FT', 'FU', 'FV', 'FW', 'FX', 'FY', 'FZ', 'F ', 'GA', 'GB', 'GC', 'GD', 'GE', 'GF', 'GG', 'GH', 'GI', 'GJ', 'GK', 'GL', 'GM', 'GN', 'GO', 'GP', 'GQ', 'GR', 'GS', 'GT', 'GU', 'GV', 'GW', 'GX', 'GY', 'GZ', 'G ', 'HA', 'HB', 'HC', 'HD', 'HE', 'HF', 'HG', 'HH', 'HI', 'HJ', 'HK', 'HL', 'HM', 'HN', 'HO', 'HP', 'HQ', 'HR', 'HS', 'HT', 'HU', 'HV', 'HW', 'HX', 'HY', 'HZ', 'H ', 'IA', 'IB', 'IC', 'ID', 'IE', 'IF', 'IG', 'IH', 'II', 'IJ', 'IK', 'IL', 'IM', 'IN', 'IO', 'IP', 'IQ', 'IR', 'IS', 'IT', 'IU', 'IV', 'IW', 'IX', 'IY', 'IZ', 'I ', 'JA', 'JB', 'JC', 'JD', 'JE', 'JF', 'JG', 'JH', 'JI', 'JJ', 'JK', 'JL', 'JM', 'JN', 'JO', 'JP', 'JQ', 'JR', 'JS', 'JT', 'JU', 'JV', 'JW', 'JX', 'JY', 'JZ', 'J ', 'KA', 'KB', 'KC', 'KD', 'KE', 'KF', 'KG', 'KH', 'KI', 'KJ', 'KK', 'KL', 'KM', 'KN', 'KO', 'KP', 'KQ', 'KR', 'KS', 'KT', 'KU', 'KV', 'KW', 'KX', 'KY', 'KZ', 'K ', 'LA', 'LB', 'LC', 'LD', 'LE', 'LF', 'LG', 'LH', 'LI', 'LJ', 'LK', 'LL', 'LM', 'LN', 'LO', 'LP', 'LQ', 'LR', 'LS', 'LT', 'LU', 'LV', 'LW', 'LX', 'LY', 'LZ', 'L ', 'MA', 'MB', 'MC', 'MD', 'ME', 'MF', 'MG', 'MH', 'MI', 'MJ', 'MK', 'ML', 'MM', 'MN', 'MO', 'MP', 'MQ', 'MR', 'MS', 'MT', 'MU', 'MV', 'MW', 'MX', 'MY', 'MZ', 'M ', 'NA', 'NB', 'NC', 'ND', 'NE', 'NF', 'NG', 'NH', 'NI', 'NJ', 'NK', 'NL', 'NM', 'NN', 'NO', 'NP', 'NQ', 'NR', 'NS', 'NT', 'NU', 'NV', 'NW', 'NX', 'NY', 'NZ', 'N ', 'OA', 'OB', 'OC', 'OD', 'OE', 'OF', 'OG', 'OH', 'OI', 'OJ', 'OK', 'OL', 'OM', 'ON', 'OO', 'OP', 'OQ', 'OR', 'OS', 'OT', 'OU', 'OV', 'OW', 'OX', 'OY', 'OZ', 'O ', 'PA', 'PB', 'PC', 'PD', 'PE', 'PF', 'PG', 'PH', 'PI', 'PJ', 'PK', 'PL', 'PM', 'PN', 'PO', 'PP', 'PQ', 'PR', 'PS', 'PT', 'PU', 'PV', 'PW', 'PX', 'PY', 'PZ', 'P ', 'QA', 'QB', 'QC', 'QD', 'QE', 'QF', 'QG', 'QH', 'QI', 'QJ', 'QK', 'QL', 'QM', 'QN', 'QO', 'QP', 'QQ', 'QR', 'QS', 'QT', 'QU', 'QV', 'QW', 'QX', 'QY', 'QZ', 'Q ', 'RA', 'RB', 'RC', 'RD', 'RE', 'RF', 'RG', 'RH', 'RI', 'RJ', 'RK', 'RL', 'RM', 'RN', 'RO', 'RP', 'RQ', 'RR', 'RS', 'RT', 'RU', 'RV', 'RW', 'RX', 'RY', 'RZ', 'R ', 'SA', 'SB', 'SC', 'SD', 'SE', 'SF', 'SG', 'SH', 'SI', 'SJ', 'SK', 'SL', 'SM', 'SN', 'SO', 'SP', 'SQ', 'SR', 'SS', 'ST', 'SU', 'SV', 'SW', 'SX', 'SY', 'SZ', 'S ', 'TA', 'TB', 'TC', 'TD', 'TE', 'TF', 'TG', 'TH', 'TI', 'TJ', 'TK', 'TL', 'TM', 'TN', 'TO', 'TP', 'TQ', 'TR', 'TS', 'TT', 'TU', 'TV', 'TW', 'TX', 'TY', 'TZ', 'T ', 'UA', 'UB', 'UC', 'UD', 'UE', 'UF', 'UG', 'UH', 'UI', 'UJ', 'UK', 'UL', 'UM', 'UN', 'UO', 'UP', 'UQ', 'UR', 'US', 'UT', 'UU', 'UV', 'UW', 'UX', 'UY', 'UZ', 'U ', 'VA', 'VB', 'VC', 'VD', 'VE', 'VF', 'VG', 'VH', 'VI', 'VJ', 'VK', 'VL', 'VM', 'VN', 'VO', 'VP', 'VQ', 'VR', 'VS', 'VT', 'VU', 'VV', 'VW', 'VX', 'VY', 'VZ', 'V ', 'WA', 'WB', 'WC', 'WD', 'WE', 'WF', 'WG', 'WH', 'WI', 'WJ', 'WK', 'WL', 'WM', 'WN', 'WO', 'WP', 'WQ', 'WR', 'WS', 'WT', 'WU', 'WV', 'WW', 'WX', 'WY', 'WZ', 'W ', 'XA', 'XB', 'XC', 'XD', 'XE', 'XF', 'XG', 'XH', 'XI', 'XJ', 'XK', 'XL', 'XM', 'XN', 'XO', 'XP', 'XQ', 'XR', 'XS', 'XT', 'XU', 'XV', 'XW', 'XX', 'XY', 'XZ', 'X ', 'YA', 'YB', 'YC', 'YD', 'YE', 'YF', 'YG', 'YH', 'YI', 'YJ', 'YK', 'YL', 'YM', 'YN', 'YO', 'YP', 'YQ', 'YR', 'YS', 'YT', 'YU', 'YV', 'YW', 'YX', 'YY', 'YZ', 'Y ', 'ZA', 'ZB', 'ZC', 'ZD', 'ZE', 'ZF', 'ZG', 'ZH', 'ZI', 'ZJ', 'ZK', 'ZL', 'ZM', 'ZN', 'ZO', 'ZP', 'ZQ', 'ZR', 'ZS', 'ZT', 'ZU', 'ZV', 'ZW', 'ZX', 'ZY', 'ZZ', 'Z ', ' A', ' B', ' C', ' D', ' E', ' F', ' G', ' H', ' I', ' J', ' K', ' L', ' M', ' N', ' O', ' P', ' Q', ' R', ' S', ' T', ' U', ' V', ' W', ' X', ' Y', ' Z', '  ']\n"
     ]
    }
   ],
   "source": [
    "newcand = []\n",
    "for x in allcand:\n",
    "    for c in charlist:\n",
    "        newcand.append(''.join(x+c))\n",
    "allcand = newcand\n",
    "print(allcand)\n",
    "#print(newcand[:20])\n",
    "#print(newcand[100:120])\n",
    "#print(newcand[-20:])"
   ]
  },
  {
   "cell_type": "markdown",
   "metadata": {},
   "source": [
    "We repeat the same thing for the position..."
   ]
  },
  {
   "cell_type": "code",
   "execution_count": 46,
   "metadata": {},
   "outputs": [
    {
     "name": "stdout",
     "output_type": "stream",
     "text": [
      "['AAAA', 'AAAB', 'AAAC', 'AAAD', 'AAAE', 'AAAF', 'AAAG', 'AAAH', 'AAAI', 'AAAJ', 'AAAK', 'AAAL', 'AAAM', 'AAAN', 'AAAO']\n",
      "['AADT', 'AADU', 'AADV', 'AADW', 'AADX', 'AADY', 'AADZ', 'AAD ', 'AAEA', 'AAEB', 'AAEC', 'AAED', 'AAEE', 'AAEF', 'AAEG']\n",
      "['   M', '   N', '   O', '   P', '   Q', '   R', '   S', '   T', '   U', '   V', '   W', '   X', '   Y', '   Z', '    ']\n"
     ]
    }
   ],
   "source": [
    "newcand = []\n",
    "for x in allcand:\n",
    "    for c in charlist:\n",
    "        newcand.append(''.join(x+c))\n",
    "allcand = newcand\n",
    "#print(allcand)\n",
    "print(newcand[:15])\n",
    "print(newcand[100:115])\n",
    "print(newcand[-15:])"
   ]
  },
  {
   "cell_type": "markdown",
   "metadata": {},
   "source": [
    "You now see that we need to apply this code as many times as positions wanted"
   ]
  },
  {
   "cell_type": "code",
   "execution_count": 48,
   "metadata": {},
   "outputs": [
    {
     "name": "stdout",
     "output_type": "stream",
     "text": [
      "['AAAAA', 'AAAAB', 'AAAAC', 'AAAAD', 'AAAAE', 'AAAAF', 'AAAAG', 'AAAAH', 'AAAAI', 'AAAAJ', 'AAAAK', 'AAAAL', 'AAAAM', 'AAAAN', 'AAAAO']\n",
      "['AAADT', 'AAADU', 'AAADV', 'AAADW', 'AAADX', 'AAADY', 'AAADZ', 'AAAD ', 'AAAEA', 'AAAEB', 'AAAEC', 'AAAED', 'AAAEE', 'AAAEF', 'AAAEG']\n",
      "['    M', '    N', '    O', '    P', '    Q', '    R', '    S', '    T', '    U', '    V', '    W', '    X', '    Y', '    Z', '     ']\n",
      "14348907\n"
     ]
    }
   ],
   "source": [
    "Npos = 5\n",
    "\n",
    "# Manually do the first position\n",
    "allcand = charlist\n",
    "\n",
    "for i in range(Npos-1):\n",
    "    newcand = []\n",
    "    for x in allcand:\n",
    "        for c in charlist:\n",
    "            newcand.append(''.join(x+c))\n",
    "    allcand = newcand\n",
    "\n",
    "print(allcand[:15])\n",
    "print(allcand[100:115])\n",
    "print(allcand[-15:])\n",
    "print(len(allcand))"
   ]
  },
  {
   "cell_type": "markdown",
   "metadata": {},
   "source": [
    "We now check the letters for each one."
   ]
  },
  {
   "cell_type": "code",
   "execution_count": 50,
   "metadata": {},
   "outputs": [
    {
     "name": "stdout",
     "output_type": "stream",
     "text": [
      "[0, 0, 0, 0, 1, 0, 0, 0, 0, 0, 0, 0, 0, 0, 0]\n",
      "[0, 0, 0, 0, 0, 0, 0, 0, 0, 0, 0, 0, 1, 0, 0]\n",
      "[1, 1, 1, 1, 1, 1, 1, 1, 1, 1, 1, 1, 1, 1, 1]\n"
     ]
    }
   ],
   "source": [
    "vals = [check(x,targetshort) for x in allcand]\n",
    "print(vals[:15])\n",
    "print(vals[100:115])\n",
    "print(vals[-15:])"
   ]
  },
  {
   "cell_type": "markdown",
   "metadata": {},
   "source": [
    "And put everything in a data frame."
   ]
  },
  {
   "cell_type": "code",
   "execution_count": 14,
   "metadata": {},
   "outputs": [
    {
     "data": {
      "text/html": [
       "<div>\n",
       "<style scoped>\n",
       "    .dataframe tbody tr th:only-of-type {\n",
       "        vertical-align: middle;\n",
       "    }\n",
       "\n",
       "    .dataframe tbody tr th {\n",
       "        vertical-align: top;\n",
       "    }\n",
       "\n",
       "    .dataframe thead th {\n",
       "        text-align: right;\n",
       "    }\n",
       "</style>\n",
       "<table border=\"1\" class=\"dataframe\">\n",
       "  <thead>\n",
       "    <tr style=\"text-align: right;\">\n",
       "      <th></th>\n",
       "      <th>Candidate</th>\n",
       "      <th>Score</th>\n",
       "    </tr>\n",
       "  </thead>\n",
       "  <tbody>\n",
       "    <tr>\n",
       "      <th>10391926</th>\n",
       "      <td>TO BE</td>\n",
       "      <td>5</td>\n",
       "    </tr>\n",
       "    <tr>\n",
       "      <th>10293511</th>\n",
       "      <td>TJ BE</td>\n",
       "      <td>4</td>\n",
       "    </tr>\n",
       "    <tr>\n",
       "      <th>10391925</th>\n",
       "      <td>TO BD</td>\n",
       "      <td>4</td>\n",
       "    </tr>\n",
       "    <tr>\n",
       "      <th>10391924</th>\n",
       "      <td>TO BC</td>\n",
       "      <td>4</td>\n",
       "    </tr>\n",
       "    <tr>\n",
       "      <th>3483193</th>\n",
       "      <td>GO BE</td>\n",
       "      <td>4</td>\n",
       "    </tr>\n",
       "    <tr>\n",
       "      <th>10234462</th>\n",
       "      <td>TG BE</td>\n",
       "      <td>4</td>\n",
       "    </tr>\n",
       "    <tr>\n",
       "      <th>10392223</th>\n",
       "      <td>TO ME</td>\n",
       "      <td>4</td>\n",
       "    </tr>\n",
       "    <tr>\n",
       "      <th>10392115</th>\n",
       "      <td>TO IE</td>\n",
       "      <td>4</td>\n",
       "    </tr>\n",
       "    <tr>\n",
       "      <th>12517690</th>\n",
       "      <td>XO BE</td>\n",
       "      <td>4</td>\n",
       "    </tr>\n",
       "    <tr>\n",
       "      <th>14112013</th>\n",
       "      <td>O BE</td>\n",
       "      <td>4</td>\n",
       "    </tr>\n",
       "  </tbody>\n",
       "</table>\n",
       "</div>"
      ],
      "text/plain": [
       "         Candidate  Score\n",
       "10391926     TO BE      5\n",
       "10293511     TJ BE      4\n",
       "10391925     TO BD      4\n",
       "10391924     TO BC      4\n",
       "3483193      GO BE      4\n",
       "10234462     TG BE      4\n",
       "10392223     TO ME      4\n",
       "10392115     TO IE      4\n",
       "12517690     XO BE      4\n",
       "14112013      O BE      4"
      ]
     },
     "execution_count": 14,
     "metadata": {},
     "output_type": "execute_result"
    }
   ],
   "source": [
    "import pandas as pd\n",
    "\n",
    "df = pd.DataFrame(zip(allcand,vals), columns=[\"Candidate\", \"Score\"])\n",
    "df.sort_values(by=\"Score\", inplace=True, ascending=False)\n",
    "df.head(10)"
   ]
  },
  {
   "cell_type": "markdown",
   "metadata": {},
   "source": [
    "## Depth-first search\n",
    "---"
   ]
  },
  {
   "cell_type": "markdown",
   "metadata": {},
   "source": [
    "For depth first search we will not build the string position by position, but rather use the `product()` function and check after each combination."
   ]
  },
  {
   "cell_type": "code",
   "execution_count": 15,
   "metadata": {},
   "outputs": [
    {
     "data": {
      "text/plain": [
       "[('A', 'A', 'A', 'A', 'A'),\n",
       " ('A', 'A', 'A', 'A', 'B'),\n",
       " ('A', 'A', 'A', 'A', 'C'),\n",
       " ('A', 'A', 'A', 'A', 'D'),\n",
       " ('A', 'A', 'A', 'A', 'E'),\n",
       " ('A', 'A', 'A', 'A', 'F'),\n",
       " ('A', 'A', 'A', 'A', 'G'),\n",
       " ('A', 'A', 'A', 'A', 'H'),\n",
       " ('A', 'A', 'A', 'A', 'I'),\n",
       " ('A', 'A', 'A', 'A', 'J')]"
      ]
     },
     "execution_count": 15,
     "metadata": {},
     "output_type": "execute_result"
    }
   ],
   "source": [
    "import itertools\n",
    "\n",
    "list(itertools.product(charlist, repeat=5))[:10]"
   ]
  },
  {
   "cell_type": "markdown",
   "metadata": {},
   "source": [
    "This allows to stop the algorithm when the score is 5."
   ]
  },
  {
   "cell_type": "code",
   "execution_count": 51,
   "metadata": {},
   "outputs": [
    {
     "name": "stdout",
     "output_type": "stream",
     "text": [
      "[10391927, 'TO BE', 5]\n"
     ]
    }
   ],
   "source": [
    "i = 0\n",
    "for comb in itertools.product(charlist, repeat=5):\n",
    "    i += 1\n",
    "    candidate = ''.join(comb)\n",
    "    score = check(candidate,targetshort)\n",
    "    if score == 5:\n",
    "        break\n",
    "        \n",
    "print([i,candidate,score])"
   ]
  },
  {
   "cell_type": "markdown",
   "metadata": {},
   "source": [
    "## Greedy search\n",
    "---\n",
    "\n",
    "We follow the same apporach than breadth-first search, but before ending each loop we only keep one candidate in the `allcand` list. The one with highest score. "
   ]
  },
  {
   "cell_type": "code",
   "execution_count": 17,
   "metadata": {},
   "outputs": [
    {
     "name": "stdout",
     "output_type": "stream",
     "text": [
      "['A', 'B', 'C', 'D', 'E', 'F', 'G', 'H', 'I', 'J', 'K', 'L', 'M', 'N', 'O', 'P', 'Q', 'R', 'S', 'T', 'U', 'V', 'W', 'X', 'Y', 'Z', ' ']\n",
      "[0, 0, 0, 0, 0, 0, 0, 0, 0, 0, 0, 0, 0, 0, 0, 0, 0, 0, 0, 1, 0, 0, 0, 0, 0, 0, 0]\n",
      "['T']\n",
      "['TO']\n",
      "['TO ']\n",
      "['TO B']\n",
      "['TO BE']\n"
     ]
    }
   ],
   "source": [
    "Npos = 5\n",
    "\n",
    "# Manually do the first position\n",
    "allcand = charlist\n",
    "print(allcand)\n",
    "# Check scores with target of equivalent length\n",
    "scores = [check(x,target[:len(x)]) for x in allcand]\n",
    "print(scores)\n",
    "# Find the index with max score\n",
    "maxidx = np.argmax(scores)\n",
    "# New allcand is only a list of one element of max score\n",
    "allcand = [allcand[maxidx]]\n",
    "print(allcand)\n",
    "\n",
    "for i in range(Npos-1):\n",
    "    newcand = []\n",
    "    for x in allcand:\n",
    "        for c in charlist:\n",
    "            newcand.append(''.join(x+c))\n",
    "    allcand = newcand\n",
    "    # Check scores with target of equivalent length\n",
    "    scores = [check(x,target[:len(x)]) for x in allcand]\n",
    "    # Find the index with max score\n",
    "    maxidx = np.argmax(scores)\n",
    "    # New allcand is only a list of one element of max score\n",
    "    allcand = [allcand[maxidx]]\n",
    "    print(allcand)"
   ]
  },
  {
   "cell_type": "markdown",
   "metadata": {},
   "source": [
    "## Hill Climbing\n",
    "---\n",
    "\n",
    "For this algorithm we need to first create a function that mutates a string of characters."
   ]
  },
  {
   "cell_type": "code",
   "execution_count": 18,
   "metadata": {},
   "outputs": [
    {
     "data": {
      "text/plain": [
       "'TO BE OR NOP TO BE'"
      ]
     },
     "execution_count": 18,
     "metadata": {},
     "output_type": "execute_result"
    }
   ],
   "source": [
    "import string\n",
    "\n",
    "def mutation(string,values):\n",
    "    \"\"\"\n",
    "    Creates a random mutation in the string \n",
    "    \n",
    "    \"\"\"\n",
    "    newstring = string\n",
    "    \n",
    "    # Select a random index from string\n",
    "    idx = random.randint(0,len(newstring))\n",
    "    \n",
    "    # Select a random value from values\n",
    "    newstring = string[:idx] + random.choices(values)[0] + string[idx + 1:]\n",
    "    \n",
    "    return(newstring)\n",
    "\n",
    "mutant = mutation(\"TO BE OR NOT TO BE\",charlist)\n",
    "mutant"
   ]
  },
  {
   "cell_type": "markdown",
   "metadata": {},
   "source": [
    "We now we need to start with a random candidate and generate mutations. We will keep the mutations if they improve the score and discard them otherwise."
   ]
  },
  {
   "cell_type": "code",
   "execution_count": 19,
   "metadata": {},
   "outputs": [
    {
     "name": "stdout",
     "output_type": "stream",
     "text": [
      "1 ZQFHTSXCM IRLDKNJP 0\n",
      "18 ZQFHTSXCM IRLDONJP 1\n",
      "46 ZQFHTSXCM IRLDO JP 2\n",
      "54 ZQFHTSXCM IRLDO JE 3\n",
      "65 ZQFHT XCM IRLDO JE 4\n",
      "76 ZQFHT XCM ITLDO JE 5\n",
      "107 ZQFHE XCM ITLDO JE 6\n",
      "161 ZQFHE XCM IT DO JE 7\n",
      "237 ZQFHE XCM IT TO JE 8\n",
      "322 ZQFHE XCM IT TO BE 9\n",
      "338 ZQFHE XRM IT TO BE 10\n",
      "406 ZQFHE XRMNIT TO BE 11\n",
      "453 ZQFHE ORMNIT TO BE 12\n",
      "488 ZOFHE ORMNIT TO BE 13\n",
      "498 ZOFBE ORMNIT TO BE 14\n",
      "585 ZOFBE OR NIT TO BE 15\n",
      "1226 ZO BE OR NIT TO BE 16\n",
      "1500 TO BE OR NIT TO BE 17\n",
      "1626 TO BE OR NOT TO BE 18\n"
     ]
    }
   ],
   "source": [
    "best = ''.join(random.sample(charlist,18))\n",
    "score = check(best,target)\n",
    "i = 1\n",
    "print(i,best,score)\n",
    "\n",
    "maxit = 10000\n",
    "for i in range(maxit):\n",
    "    i += 1\n",
    "    \n",
    "    new = mutation(best,charlist)\n",
    "    newscore = check(new,target)\n",
    "    \n",
    "    if newscore > score:\n",
    "        best = new\n",
    "        score = newscore\n",
    "        print(i,best,score)\n",
    "    \n",
    "    if score >= len(target):\n",
    "        break"
   ]
  },
  {
   "cell_type": "markdown",
   "metadata": {},
   "source": [
    "## Genetic Algorithm\n",
    "---"
   ]
  },
  {
   "cell_type": "code",
   "execution_count": 20,
   "metadata": {},
   "outputs": [
    {
     "name": "stdout",
     "output_type": "stream",
     "text": [
      "[('HGSWTEQZYR VMUIAPD', 0), ('WCDQZSVMK EXHYTJRN', 0), ('RWASFLKCTXPHO QUMG', 0), ('BHPGJZ QSCNDFTLUAW', 1), ('ULNAOM QRCWSEZPYVF', 0), ('ZHUFXDLENSBP MIOGR', 1), ('SERPOWXTGKMJNVBYQU', 0), ('IYKQSTCOHBVUPZGWMA', 0), ('JATI FPLBEZKQGWSNH', 0), ('FUKDQPMSZHYCVR IGL', 0)]\n"
     ]
    }
   ],
   "source": [
    "def new_pop(Npop, values):\n",
    "    \"\"\"\n",
    "    Creates a new population.\n",
    "    \"\"\"\n",
    "    pop=[]\n",
    "    for i in range(Npop):\n",
    "        new = ''.join(random.sample(charlist,18))\n",
    "        pop.append(new)\n",
    "    return(pop)\n",
    "\n",
    "Npop = 10\n",
    "# Create new population\n",
    "pop = new_pop(Npop,charlist)\n",
    "# Check the scores\n",
    "scores = [check(x,target) for x in pop]\n",
    "print(list(zip(pop,scores)))"
   ]
  },
  {
   "cell_type": "markdown",
   "metadata": {},
   "source": [
    "We now create a `selection()` function that selects two parents with a probability that is proportional to the score."
   ]
  },
  {
   "cell_type": "code",
   "execution_count": 22,
   "metadata": {},
   "outputs": [
    {
     "name": "stdout",
     "output_type": "stream",
     "text": [
      "IYKQSTCOHBVUPZGWMA ZHUFXDLENSBP MIOGR\n"
     ]
    }
   ],
   "source": [
    "def selection(pop, scores):\n",
    "    \"\"\"\n",
    "    Returns two elements from pop with weighted probability.    \n",
    "    \"\"\"\n",
    "    \n",
    "    # Compute weights (we add one to scores first avoid 0 weights)\n",
    "    weights = np.array(scores) + 1\n",
    "    # Normalise weights\n",
    "    weights = weights / weights.sum()\n",
    "    \n",
    "    # Select indices with weight probability\n",
    "    p1ix,p2ix = np.random.choice(np.arange(len(weights)), size=2, p=weights, replace=False)\n",
    "\n",
    "    parent1 = pop[p1ix]\n",
    "    parent2 = pop[p2ix]\n",
    "    \n",
    "    return(parent1, parent2)\n",
    "\n",
    "p1,p2 = selection(pop,scores)\n",
    "print(p1,p2)"
   ]
  },
  {
   "cell_type": "markdown",
   "metadata": {},
   "source": [
    "We create a function to perform the crossover between these two parents. This function also introductes a mutations to the offsprings with a certain probability `pmut`."
   ]
  },
  {
   "cell_type": "code",
   "execution_count": 23,
   "metadata": {},
   "outputs": [
    {
     "name": "stdout",
     "output_type": "stream",
     "text": [
      "IYKQXDLENSBP MIOGR ZHUFSTCOHBVUPZGWMA\n"
     ]
    }
   ],
   "source": [
    "def crossover(parent1, parent2, values, pmut=0.1):\n",
    "    \"\"\"\n",
    "    Performs the crossover between two parents.\n",
    "    \n",
    "    Returns two offspring with mutation.\n",
    "    \"\"\"\n",
    "    \n",
    "    # define crossover point (excluding both ends)\n",
    "    cp = np.random.randint(1,len(parent1) - 1)\n",
    "    \n",
    "    # Cut parent1 DNA in halves \n",
    "    dna_11 = parent1[:cp]\n",
    "    dna_12 = parent1[cp:]\n",
    "    \n",
    "    dna_21 = parent2[:cp]\n",
    "    dna_22 = parent2[cp:]\n",
    "    \n",
    "    # merge the pieces of dna\n",
    "    offspring1 = dna_11 + dna_22\n",
    "    offspring2 = dna_21 + dna_12\n",
    "    \n",
    "    # mutate childrens' dna with certain probability\n",
    "    if np.random.uniform(0, 1) < pmut:\n",
    "        child1 = mutation(offspring1,values)\n",
    "\n",
    "    if np.random.uniform(0, 1) < pmut:\n",
    "        child2 = mutation(offspring2,values)\n",
    "    \n",
    "    return(offspring1,offspring2)\n",
    "\n",
    "o1, o2 = crossover(p1, p2, charlist, pmut=0.1)\n",
    "print(o1,o2)"
   ]
  },
  {
   "cell_type": "markdown",
   "metadata": {},
   "source": [
    "Put everything together in the same piece of code."
   ]
  },
  {
   "cell_type": "code",
   "execution_count": 26,
   "metadata": {},
   "outputs": [
    {
     "name": "stdout",
     "output_type": "stream",
     "text": [
      "GZFBK CAEVOJYHXDQL 3\n",
      "LO XBIKNVZEEOIMLBF 3\n",
      "TO BK CU PFTJTW HG 9\n",
      "TO BKDOU NOJJTW BF 11\n",
      "TO BB OU NOTHTU BF 13\n",
      "TO BK OQ NOTJTM BF 13\n",
      "TO BK OR NOTHTM BF 14\n",
      "TO BK OR NOTHTU BF 14\n",
      "TO BK OR NOTHTU BF 14\n",
      "TO BK OR NOTYTU BF 14\n",
      "TO BK OR NOTHTU BF 14\n",
      "TO BK OR NOTJTU BF 14\n",
      "TO BK OR NOTHTU BF 14\n",
      "TO BK OR NOTJTU BF 14\n",
      "TO BK OR NOTHTU BF 14\n",
      "TO BK OR NOTJTU BF 14\n",
      "TO BK OR NOTHTU BF 14\n",
      "TO BK OR NOTHTU BF 14\n",
      "TO BK OR NOTJTU BF 14\n",
      "TO BK OR NOTHTU BF 14\n",
      "TO BK OR NOTJTU BF 14\n"
     ]
    }
   ],
   "source": [
    "Ngen = 200 # Number of generations\n",
    "Npop = 100 # Number of population (even number)\n",
    "pmut = 0.5 # Probability to mutate\n",
    "\n",
    "# Create new population\n",
    "pop = new_pop(Npop,charlist)\n",
    "# Check the scores\n",
    "scores = [check(x,target) for x in pop]\n",
    "# Print initial status\n",
    "imax = np.argmax(scores) \n",
    "print(pop[imax],scores[imax])\n",
    "\n",
    "for gen in range(Ngen):\n",
    "    newpop = []\n",
    "    # Loop through Npop/2 to get same number of pop\n",
    "    for i in range(int(Npop/2)):\n",
    "        p1,p2 = selection(pop,scores)\n",
    "        o1, o2 = crossover(p1, p2, charlist, pmut=pmut)\n",
    "        newpop.append(o1)\n",
    "        newpop.append(o2)\n",
    "    \n",
    "    pop = newpop\n",
    "    # Recalculate the scores\n",
    "    scores = [check(x,target) for x in pop]\n",
    "    \n",
    "    if gen%10 == 0:\n",
    "        # Print stuff every 10 rounds\n",
    "        imax = np.argmax(scores) \n",
    "        print(pop[imax],scores[imax])\n",
    "        #print(pop)\n",
    "    "
   ]
  },
  {
   "cell_type": "markdown",
   "metadata": {},
   "source": [
    "---\n",
    "<div style=\"text-align: right ;font-size: small; color: gray\"> Notebook by <a href=\"http://mariogutierrezroig.net\">Mario Gutiérrez-Roig</a>, Lecturer in Data Science and Statistics at the University of Essex <a href=\"http://creativecommons.org/licenses/by-sa/4.0/\" rel=\"license\"><img src=\"https://i.creativecommons.org/l/by-sa/4.0/88x31.png\" alt=\"Licencia de Creative Commons\" hspace=\"10\" align=\"right\"></a></div>"
   ]
  }
 ],
 "metadata": {
  "kernelspec": {
   "display_name": "Python 3",
   "language": "python",
   "name": "python3"
  },
  "language_info": {
   "codemirror_mode": {
    "name": "ipython",
    "version": 3
   },
   "file_extension": ".py",
   "mimetype": "text/x-python",
   "name": "python",
   "nbconvert_exporter": "python",
   "pygments_lexer": "ipython3",
   "version": "3.8.2"
  }
 },
 "nbformat": 4,
 "nbformat_minor": 4
}
